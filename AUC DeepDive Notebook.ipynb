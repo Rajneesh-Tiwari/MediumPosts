{
 "cells": [
  {
   "cell_type": "markdown",
   "metadata": {},
   "source": [
    "### The aim of this notebook is to demonstrate the shortcomings of AUC as a metric, and how we can find our way around these shortcomings"
   ]
  },
  {
   "cell_type": "code",
   "execution_count": 1,
   "metadata": {},
   "outputs": [],
   "source": [
    "import numpy as np\n",
    "import pandas as pd"
   ]
  },
  {
   "cell_type": "code",
   "execution_count": 69,
   "metadata": {},
   "outputs": [
    {
     "data": {
      "text/plain": [
       "array([0, 0, 0, 1, 0, 0, 0, 0, 1, 0], dtype=int8)"
      ]
     },
     "execution_count": 69,
     "metadata": {},
     "output_type": "execute_result"
    }
   ],
   "source": [
    "### Lets make some data\n",
    "\n",
    "threshold = 0.6\n",
    "Y_Actual = ((np.arange(0,10)>np.random.randint(0,6))).astype(np.int8)\n",
    "Y_Pred = np.random.randint(0,10,10)/np.random.randint(10,20)\n",
    "Pred_Class = (Y_Pred>threshold).astype(np.int8)\n",
    "Pred_Class"
   ]
  },
  {
   "cell_type": "code",
   "execution_count": 79,
   "metadata": {},
   "outputs": [
    {
     "name": "stdout",
     "output_type": "stream",
     "text": [
      "AUC: 0.875\n"
     ]
    }
   ],
   "source": [
    "### Lets calculate AUC of this very cooked up data\n",
    "from sklearn.metrics import roc_auc_score\n",
    "print(\"AUC:\",roc_auc_score(Y_Actual, Y_Pred))"
   ]
  },
  {
   "cell_type": "markdown",
   "metadata": {},
   "source": [
    "#### Another perspective: Ranking "
   ]
  },
  {
   "cell_type": "code",
   "execution_count": 78,
   "metadata": {},
   "outputs": [
    {
     "name": "stdout",
     "output_type": "stream",
     "text": [
      "RankAverages: [ 2.   3.   6.   9.   7.5  1.   7.5  4.5 10.   4.5]\n",
      "AUC: 0.875\n"
     ]
    }
   ],
   "source": [
    "### Lets rank the probabilies by using rank avg in scipy\n",
    "\n",
    "import scipy\n",
    "RankProbs = scipy.stats.rankdata(Y_Pred)\n",
    "print(\"RankAverages:\",RankProbs)\n",
    "print(\"AUC:\",roc_auc_score(Y_Actual, RankProbs))"
   ]
  },
  {
   "cell_type": "code",
   "execution_count": 110,
   "metadata": {},
   "outputs": [
    {
     "data": {
      "text/plain": [
       "Text(0.5, 0, 'Probability value')"
      ]
     },
     "execution_count": 110,
     "metadata": {},
     "output_type": "execute_result"
    },
    {
     "data": {
      "image/png": "[encoded data removed]",
      "text/plain": [
       "<Figure size 432x288 with 1 Axes>"
      ]
     },
     "metadata": {
      "needs_background": "light"
     },
     "output_type": "display_data"
    }
   ],
   "source": [
    "import seaborn as sns\n",
    "import matplotlib.pyplot as plt\n",
    "sns.kdeplot(RankProbs/100,label=\"Rescaled Probs: Model A\");\n",
    "sns.kdeplot(Y_Pred.clip(0,1.1),label=\"Original Probs: Model B\");\n",
    "plt.ylabel(\"Density\")\n",
    "plt.xlabel(\"Probability value\")"
   ]
  },
  {
   "cell_type": "code",
   "execution_count": 108,
   "metadata": {},
   "outputs": [
    {
     "name": "stdout",
     "output_type": "stream",
     "text": [
      "AUC: 0.875\n"
     ]
    }
   ],
   "source": [
    "print(\"AUC:\",roc_auc_score(Y_Actual, RankProbs/100))"
   ]
  },
  {
   "cell_type": "markdown",
   "metadata": {},
   "source": [
    "#### More analysis to follow in next post"
   ]
  },
  {
   "cell_type": "code",
   "execution_count": null,
   "metadata": {},
   "outputs": [],
   "source": []
  }
 ],
 "metadata": {
  "kernelspec": {
   "display_name": "Python 3",
   "language": "python",
   "name": "python3"
  },
  "language_info": {
   "codemirror_mode": {
    "name": "ipython",
    "version": 3
   },
   "file_extension": ".py",
   "mimetype": "text/x-python",
   "name": "python",
   "nbconvert_exporter": "python",
   "pygments_lexer": "ipython3",
   "version": "3.7.3"
  }
 },
 "nbformat": 4,
 "nbformat_minor": 2
}
